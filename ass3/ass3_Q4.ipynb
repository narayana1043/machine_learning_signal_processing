{
 "cells": [
  {
   "cell_type": "code",
   "execution_count": 1,
   "metadata": {
    "collapsed": true
   },
   "outputs": [],
   "source": [
    "import numpy as np\n",
    "import matplotlib.pyplot as plt\n",
    "import scipy\n",
    "import IPython.display as ipd\n",
    "import math\n",
    "\n",
    "from scipy.io import wavfile as wav\n",
    "from scipy.stats import mode"
   ]
  },
  {
   "cell_type": "markdown",
   "metadata": {},
   "source": [
    "### read data"
   ]
  },
  {
   "cell_type": "code",
   "execution_count": 2,
   "metadata": {
    "collapsed": true
   },
   "outputs": [],
   "source": [
    "x_test = scipy.io.loadmat('./data/eeg.mat')['x_te']\n",
    "x_train = scipy.io.loadmat('./data/eeg.mat')['x_train']\n",
    "y_test = scipy.io.loadmat('./data/eeg.mat')['y_te']\n",
    "y_train = scipy.io.loadmat('./data/eeg.mat')['y_train']"
   ]
  },
  {
   "cell_type": "markdown",
   "metadata": {},
   "source": [
    "### Functions"
   ]
  },
  {
   "cell_type": "code",
   "execution_count": 3,
   "metadata": {
    "collapsed": true
   },
   "outputs": [],
   "source": [
    "def DFT_matrix(N):\n",
    "    seq_array = np.array(range(N), ndmin=2)\n",
    "    DFT = np.exp(-1j*(2*math.pi*np.dot(seq_array.T,seq_array)/N))\n",
    "    return DFT\n",
    "\n",
    "def blackman_window(frame_size):\n",
    "    a_0 = 0.42\n",
    "    a_1 = 0.5\n",
    "    a_2 = 0.08\n",
    "    return (a_0 - \n",
    "            a_1 * np.cos(2 * np.pi * np.arange(frame_size)/(frame_size-1)) + \n",
    "            a_2 * np.cos(2 * np.pi * np.arange(frame_size)/(frame_size-1)) )\n",
    "\n",
    "def STFT(x, hop_size, frame_size):\n",
    "    \n",
    "    DFT = DFT_matrix(frame_size)\n",
    "    window = blackman_window(frame_size)\n",
    "    signal_len = x.shape[0]\n",
    "    zero_padding = hop_size - ((signal_len-hop_size)%hop_size)\n",
    "    x = np.concatenate((x, np.zeros(hop_size)), axis=0)\n",
    "    X = (x[:frame_size] * window).reshape((frame_size,1))\n",
    "    start = hop_size\n",
    "    \n",
    "    while True:\n",
    "        x_windowed = (x[start:start+frame_size] * window).reshape((frame_size, 1))\n",
    "        X = np.concatenate((X, x_windowed), axis=1)\n",
    "        start = int(start + hop_size)\n",
    "        if signal_len < start + frame_size:\n",
    "            break\n",
    "    \n",
    "    stft = np.dot(DFT, X)\n",
    "    \n",
    "    return stft\n",
    "\n",
    "# eigen decomposition \"power iteration\"\n",
    "def power_iteration(A):\n",
    "    \"\"\"\n",
    "    Ideally choose a random vector to decrease the chance that our vector is orthogonal to eigen vector\n",
    "    \"\"\"\n",
    "    b_k = np.random.rand(A.shape[0])\n",
    "\n",
    "    for i in range(1000):\n",
    "        # compute the projection of vector onto the matirx A\n",
    "        b_k1 = np.dot(A,b_k)\n",
    "        # normalize the projection\n",
    "        b_k1_norm = np.linalg.norm(b_k1)\n",
    "        b_k = b_k1/b_k1_norm\n",
    "    \n",
    "    \n",
    "    # rayleigh quotient in order to get the associated eigen value\n",
    "    eigen_value = np.dot(b_k.T, np.dot(A, b_k))/np.dot(b_k.T,b_k)\n",
    "    \n",
    "    eigen_vector = np.reshape(b_k, (1, b_k.shape[0]))    \n",
    "    \n",
    "    # return eigen vector and eigen value\n",
    "    return eigen_vector, eigen_value  \n",
    "\n",
    "def eigen_decomposition(x):\n",
    "    cov_x_eigen_values = []\n",
    "    residual_cov = x\n",
    "#     print(x.shape)\n",
    "    for i in range(x.shape[0]):\n",
    "        eigen_vector, eigen_value = power_iteration(residual_cov)\n",
    "        residual_cov = residual_cov - ((eigen_value)*np.dot(eigen_vector.T, eigen_vector))\n",
    "        cov_x_eigen_values.append(eigen_value)\n",
    "        if i == 0:\n",
    "            cov_x_eigen_vector_matrix = eigen_vector\n",
    "        else:\n",
    "            cov_x_eigen_vector_matrix = np.concatenate((cov_x_eigen_vector_matrix, eigen_vector), axis=0)\n",
    "            \n",
    "    return cov_x_eigen_values, cov_x_eigen_vector_matrix"
   ]
  },
  {
   "cell_type": "markdown",
   "metadata": {},
   "source": [
    "### Extract the mu wave and create the data matrix\n",
    "for the mu wave we only care about the 7.5Hz - 12.5Hz\n",
    "\n",
    "#### Statement: \n",
    "A continuous time signal can be represented in tis samples and recovered back when sampling frequency $f_s$ is greater than or equal to twice the highest frequency component of message signal.\n",
    "\n",
    "<center> $f_s \\ge 2f_m$ </center>\n",
    "\n",
    "In this problem, since the sampling rate is 128 HZ the maximum the frequency we can recover here is 64 Hz\n",
    "\n",
    "Therefore we have the frame_size = 64\n",
    "\n",
    "Hop size = 48 means than we are jumping 48 samples during the STFT inorder to retain the time domain information\n",
    "\n",
    "We are also dropping the second half of the spectrum as it is just the complex conjugate of the upper half.\n",
    "\n",
    "#### Data generation\n",
    "only keeping the 3 - 7 rows of the STFT and them making them all a single column and this is done for all the samples\n",
    "\n",
    "Mu wave (7.5 - 12.5Hz)\n",
    "\n",
    "(64Hz/32)*3 = 6Hz\n",
    "\n",
    "(64Hz/32)*7 = 14Hz"
   ]
  },
  {
   "cell_type": "code",
   "execution_count": 4,
   "metadata": {
    "collapsed": true
   },
   "outputs": [],
   "source": [
    "def data_gen(data):\n",
    "    for i in range(data.shape[2]):\n",
    "        for j in range(data.shape[1]):\n",
    "            x = data[:,j,i]\n",
    "            # [:33,:] rest are complex conjugates\n",
    "            # [3:8,:] mu wave frequencies\n",
    "            stft_choped = STFT(x=x, hop_size=48, frame_size=64)[:33,:][3:8,:] \n",
    "            if j == 0:\n",
    "                X_ = np.reshape(stft_choped, (1, stft_choped.shape[0]*stft_choped.shape[1]))\n",
    "            else:\n",
    "                X_ = np.concatenate((X_, np.reshape(stft_choped, (1, stft_choped.shape[0]*stft_choped.shape[1]))), axis=0)\n",
    "        if i == 0:\n",
    "            X = np.reshape(X_, (1, X_.shape[0]*X_.shape[1]))\n",
    "        else:\n",
    "            X = np.concatenate((X, np.reshape(X_, (1, X_.shape[0]*X_.shape[1]))), axis=0)\n",
    "    return X.T"
   ]
  },
  {
   "cell_type": "code",
   "execution_count": 5,
   "metadata": {},
   "outputs": [
    {
     "name": "stdout",
     "output_type": "stream",
     "text": [
      "(225, 112) (1, 112) (225, 28) (1, 28)\n"
     ]
    }
   ],
   "source": [
    "X_train = data_gen(x_train)\n",
    "X_test = data_gen(x_test)\n",
    "print(X_train.shape, y_train.T.shape, X_test.shape, y_test.T.shape)"
   ]
  },
  {
   "cell_type": "markdown",
   "metadata": {},
   "source": [
    "225 -> Dimensions and 112 -> Data points"
   ]
  },
  {
   "cell_type": "markdown",
   "metadata": {},
   "source": [
    "### Dimensionality reduction (PCA)\n",
    "#### Centering the data, Covaraince, Eigen Decompostion(Power iteration)"
   ]
  },
  {
   "cell_type": "code",
   "execution_count": 6,
   "metadata": {},
   "outputs": [
    {
     "data": {
      "image/png": "[encoded data removed]",
      "text/plain": [
       "<matplotlib.figure.Figure at 0x7f35abb955c0>"
      ]
     },
     "metadata": {},
     "output_type": "display_data"
    }
   ],
   "source": [
    "X_train = np.absolute(X_train - np.mean(X_train, axis=1, keepdims=True))\n",
    "X_test = np.absolute(X_test - np.mean(X_test, axis=1, keepdims=True))\n",
    "X_train_cov = np.cov(X_train)\n",
    "eigen_values, eigen_vectors = eigen_decomposition(X_train_cov)\n",
    "plt.scatter(x=[i for i in range(225)], y=eigen_values, marker=\"x\")\n",
    "plt.show()"
   ]
  },
  {
   "cell_type": "code",
   "execution_count": 11,
   "metadata": {},
   "outputs": [
    {
     "name": "stdout",
     "output_type": "stream",
     "text": [
      "(10, 112) (10, 28)\n"
     ]
    }
   ],
   "source": [
    "Z_train = np.dot(eigen_vectors[:,:10].T, X_train)\n",
    "Z_test = np.dot(eigen_vectors[:,:10].T, X_test)\n",
    "print(Z_train.shape, Z_test.shape)"
   ]
  },
  {
   "cell_type": "markdown",
   "metadata": {
    "collapsed": true
   },
   "source": [
    "#### Project the data onto random projection matrix and take the sign"
   ]
  },
  {
   "cell_type": "code",
   "execution_count": 12,
   "metadata": {},
   "outputs": [
    {
     "name": "stdout",
     "output_type": "stream",
     "text": [
      "(20, 112) (20, 28)\n"
     ]
    }
   ],
   "source": [
    "L = 20\n",
    "M = Z_train.shape[0]\n",
    "A = np.random.randn(L,M)\n",
    "A = A/np.linalg.norm(A, axis=1, keepdims=True)\n",
    "wrapper_train = np.where(np.sign(np.dot(A, Z_train)) > 0, 1, 0)\n",
    "wrapper_test = np.where(np.sign(np.dot(A, Z_test)) > 0, 1, 0)\n",
    "print(wrapper_train.shape, wrapper_test.shape)"
   ]
  },
  {
   "cell_type": "code",
   "execution_count": 9,
   "metadata": {},
   "outputs": [
    {
     "name": "stdout",
     "output_type": "stream",
     "text": [
      "[1 1 2 1 1 1 2 1 2 1 1 1 2 2 1 2 1 2 1 1 2 1 1 2 1 2 2 1] \n",
      " [1 2 1 1 1 2 1 1 1 1 2 2 2 2 2 2 1 2 1 2 2 2 1 1 1 1 2 1]\n",
      "[1 0 0 1 1 0 0 1 0 1 0 0 1 1 0 1 1 1 1 0 1 0 1 0 1 0 1 1]\n"
     ]
    },
    {
     "data": {
      "text/plain": [
       "0.42857142857142855"
      ]
     },
     "execution_count": 9,
     "metadata": {},
     "output_type": "execute_result"
    }
   ],
   "source": [
    "def fast_KNN(X_test, k):\n",
    "    predictions = []\n",
    "    for test_sample in wrapper_test.T:\n",
    "        indicies = (np.absolute((wrapper_train.T - test_sample)).sum(axis=1)).argsort()[:k]\n",
    "        predictions.append(mode(y_train[indicies])[0][0][0])\n",
    "    return np.array(predictions, dtype=int)\n",
    "    \n",
    "y_predicted = fast_KNN(wrapper_test, 3)\n",
    "print(y_test.T[0], '\\n', y_predicted)\n",
    "print(1 - np.absolute(y_test.T[0] - y_predicted))\n",
    "np.sum(np.absolute(y_test.T[0] - y_predicted))/len(y_test)"
   ]
  },
  {
   "cell_type": "code",
   "execution_count": 10,
   "metadata": {},
   "outputs": [
    {
     "data": {
      "text/plain": [
       "(53,)"
      ]
     },
     "execution_count": 10,
     "metadata": {},
     "output_type": "execute_result"
    }
   ],
   "source": [
    "y_train[y_train == 1].shape"
   ]
  },
  {
   "cell_type": "markdown",
   "metadata": {},
   "source": [
    "### Improvements can be made using grid search over the parameters K,L&M"
   ]
  },
  {
   "cell_type": "code",
   "execution_count": null,
   "metadata": {
    "collapsed": true
   },
   "outputs": [],
   "source": []
  }
 ],
 "metadata": {
  "kernelspec": {
   "display_name": "Python 3",
   "language": "python",
   "name": "python3"
  },
  "language_info": {
   "codemirror_mode": {
    "name": "ipython",
    "version": 3
   },
   "file_extension": ".py",
   "mimetype": "text/x-python",
   "name": "python",
   "nbconvert_exporter": "python",
   "pygments_lexer": "ipython3",
   "version": "3.6.1+"
  }
 },
 "nbformat": 4,
 "nbformat_minor": 2
}
